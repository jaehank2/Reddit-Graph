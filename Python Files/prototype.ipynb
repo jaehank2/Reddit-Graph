{
 "metadata": {
  "language_info": {
   "codemirror_mode": {
    "name": "ipython",
    "version": 3
   },
   "file_extension": ".py",
   "mimetype": "text/x-python",
   "name": "python",
   "nbconvert_exporter": "python",
   "pygments_lexer": "ipython3",
   "version": "3.8.5-final"
  },
  "orig_nbformat": 2,
  "kernelspec": {
   "name": "python3",
   "display_name": "Python 3.8.5 64-bit",
   "metadata": {
    "interpreter": {
     "hash": "4359ab4501e1bc277e84dde2330a407624cb240229056e6711bf747bf499cba4"
    }
   }
  }
 },
 "nbformat": 4,
 "nbformat_minor": 2,
 "cells": [
  {
   "cell_type": "code",
   "execution_count": 2,
   "metadata": {},
   "outputs": [],
   "source": [
    "import pandas as pd"
   ]
  },
  {
   "cell_type": "code",
   "execution_count": 13,
   "metadata": {},
   "outputs": [],
   "source": [
    "df = pd.read_csv(\"soc-redditHyperlinks-title.tsv\", sep='\\t') #reads .tsv file into pandas dataframe"
   ]
  },
  {
   "cell_type": "code",
   "execution_count": 14,
   "metadata": {},
   "outputs": [
    {
     "output_type": "execute_result",
     "data": {
      "text/plain": [
       "    SOURCE_SUBREDDIT TARGET_SUBREDDIT  POST_ID            TIMESTAMP  \\\n",
       "0         rddtgaming         rddtrust  1u4pzzs  2013-12-31 16:39:18   \n",
       "1            xboxone    battlefield_4  1u4tmfs  2013-12-31 17:59:11   \n",
       "2                ps4    battlefield_4  1u4tmos  2013-12-31 17:59:40   \n",
       "3  fitnesscirclejerk        leangains  1u50xfs  2013-12-31 19:01:56   \n",
       "4  fitnesscirclejerk      lifeprotips  1u51nps  2013-12-31 21:02:28   \n",
       "\n",
       "   LINK_SENTIMENT                                         PROPERTIES  \n",
       "0               1  25.0,23.0,0.76,0.0,0.44,0.12,0.12,4.0,4.0,0.0,...  \n",
       "1               1  100.0,88.0,0.78,0.02,0.08,0.13,0.07,16.0,16.0,...  \n",
       "2               1  100.0,88.0,0.78,0.02,0.08,0.13,0.07,16.0,16.0,...  \n",
       "3               1  49.0,43.0,0.775510204082,0.0,0.265306122449,0....  \n",
       "4               1  14.0,14.0,0.785714285714,0.0,0.428571428571,0....  "
      ],
      "text/html": "<div>\n<style scoped>\n    .dataframe tbody tr th:only-of-type {\n        vertical-align: middle;\n    }\n\n    .dataframe tbody tr th {\n        vertical-align: top;\n    }\n\n    .dataframe thead th {\n        text-align: right;\n    }\n</style>\n<table border=\"1\" class=\"dataframe\">\n  <thead>\n    <tr style=\"text-align: right;\">\n      <th></th>\n      <th>SOURCE_SUBREDDIT</th>\n      <th>TARGET_SUBREDDIT</th>\n      <th>POST_ID</th>\n      <th>TIMESTAMP</th>\n      <th>LINK_SENTIMENT</th>\n      <th>PROPERTIES</th>\n    </tr>\n  </thead>\n  <tbody>\n    <tr>\n      <th>0</th>\n      <td>rddtgaming</td>\n      <td>rddtrust</td>\n      <td>1u4pzzs</td>\n      <td>2013-12-31 16:39:18</td>\n      <td>1</td>\n      <td>25.0,23.0,0.76,0.0,0.44,0.12,0.12,4.0,4.0,0.0,...</td>\n    </tr>\n    <tr>\n      <th>1</th>\n      <td>xboxone</td>\n      <td>battlefield_4</td>\n      <td>1u4tmfs</td>\n      <td>2013-12-31 17:59:11</td>\n      <td>1</td>\n      <td>100.0,88.0,0.78,0.02,0.08,0.13,0.07,16.0,16.0,...</td>\n    </tr>\n    <tr>\n      <th>2</th>\n      <td>ps4</td>\n      <td>battlefield_4</td>\n      <td>1u4tmos</td>\n      <td>2013-12-31 17:59:40</td>\n      <td>1</td>\n      <td>100.0,88.0,0.78,0.02,0.08,0.13,0.07,16.0,16.0,...</td>\n    </tr>\n    <tr>\n      <th>3</th>\n      <td>fitnesscirclejerk</td>\n      <td>leangains</td>\n      <td>1u50xfs</td>\n      <td>2013-12-31 19:01:56</td>\n      <td>1</td>\n      <td>49.0,43.0,0.775510204082,0.0,0.265306122449,0....</td>\n    </tr>\n    <tr>\n      <th>4</th>\n      <td>fitnesscirclejerk</td>\n      <td>lifeprotips</td>\n      <td>1u51nps</td>\n      <td>2013-12-31 21:02:28</td>\n      <td>1</td>\n      <td>14.0,14.0,0.785714285714,0.0,0.428571428571,0....</td>\n    </tr>\n  </tbody>\n</table>\n</div>"
     },
     "metadata": {},
     "execution_count": 14
    }
   ],
   "source": [
    "df.head()"
   ]
  },
  {
   "cell_type": "code",
   "execution_count": 15,
   "metadata": {},
   "outputs": [],
   "source": [
    "def reduce(x):\n",
    "    sentiments = x.split(\",\")[18:21] #stores positive, negative, and compound sentiment in list\n",
    "    return sentiments"
   ]
  },
  {
   "cell_type": "code",
   "execution_count": 16,
   "metadata": {
    "tags": []
   },
   "outputs": [],
   "source": [
    "df[\"PROPERTIES\"] = df[\"PROPERTIES\"].apply(reduce)"
   ]
  },
  {
   "cell_type": "code",
   "execution_count": 17,
   "metadata": {},
   "outputs": [
    {
     "output_type": "execute_result",
     "data": {
      "text/plain": [
       "    SOURCE_SUBREDDIT TARGET_SUBREDDIT  POST_ID            TIMESTAMP  \\\n",
       "0         rddtgaming         rddtrust  1u4pzzs  2013-12-31 16:39:18   \n",
       "1            xboxone    battlefield_4  1u4tmfs  2013-12-31 17:59:11   \n",
       "2                ps4    battlefield_4  1u4tmos  2013-12-31 17:59:40   \n",
       "3  fitnesscirclejerk        leangains  1u50xfs  2013-12-31 19:01:56   \n",
       "4  fitnesscirclejerk      lifeprotips  1u51nps  2013-12-31 21:02:28   \n",
       "\n",
       "   LINK_SENTIMENT            PROPERTIES  \n",
       "0               1       [0.0, 0.0, 0.0]  \n",
       "1               1  [0.195, 0.0, 0.4404]  \n",
       "2               1  [0.195, 0.0, 0.4404]  \n",
       "3               1       [0.0, 0.0, 0.0]  \n",
       "4               1       [0.0, 0.0, 0.0]  "
      ],
      "text/html": "<div>\n<style scoped>\n    .dataframe tbody tr th:only-of-type {\n        vertical-align: middle;\n    }\n\n    .dataframe tbody tr th {\n        vertical-align: top;\n    }\n\n    .dataframe thead th {\n        text-align: right;\n    }\n</style>\n<table border=\"1\" class=\"dataframe\">\n  <thead>\n    <tr style=\"text-align: right;\">\n      <th></th>\n      <th>SOURCE_SUBREDDIT</th>\n      <th>TARGET_SUBREDDIT</th>\n      <th>POST_ID</th>\n      <th>TIMESTAMP</th>\n      <th>LINK_SENTIMENT</th>\n      <th>PROPERTIES</th>\n    </tr>\n  </thead>\n  <tbody>\n    <tr>\n      <th>0</th>\n      <td>rddtgaming</td>\n      <td>rddtrust</td>\n      <td>1u4pzzs</td>\n      <td>2013-12-31 16:39:18</td>\n      <td>1</td>\n      <td>[0.0, 0.0, 0.0]</td>\n    </tr>\n    <tr>\n      <th>1</th>\n      <td>xboxone</td>\n      <td>battlefield_4</td>\n      <td>1u4tmfs</td>\n      <td>2013-12-31 17:59:11</td>\n      <td>1</td>\n      <td>[0.195, 0.0, 0.4404]</td>\n    </tr>\n    <tr>\n      <th>2</th>\n      <td>ps4</td>\n      <td>battlefield_4</td>\n      <td>1u4tmos</td>\n      <td>2013-12-31 17:59:40</td>\n      <td>1</td>\n      <td>[0.195, 0.0, 0.4404]</td>\n    </tr>\n    <tr>\n      <th>3</th>\n      <td>fitnesscirclejerk</td>\n      <td>leangains</td>\n      <td>1u50xfs</td>\n      <td>2013-12-31 19:01:56</td>\n      <td>1</td>\n      <td>[0.0, 0.0, 0.0]</td>\n    </tr>\n    <tr>\n      <th>4</th>\n      <td>fitnesscirclejerk</td>\n      <td>lifeprotips</td>\n      <td>1u51nps</td>\n      <td>2013-12-31 21:02:28</td>\n      <td>1</td>\n      <td>[0.0, 0.0, 0.0]</td>\n    </tr>\n  </tbody>\n</table>\n</div>"
     },
     "metadata": {},
     "execution_count": 17
    }
   ],
   "source": [
    "df.head()"
   ]
  },
  {
   "cell_type": "code",
   "execution_count": 18,
   "metadata": {},
   "outputs": [
    {
     "output_type": "execute_result",
     "data": {
      "text/plain": [
       "    SOURCE_SUBREDDIT TARGET_SUBREDDIT  LINK_SENTIMENT\n",
       "0         rddtgaming         rddtrust               1\n",
       "1            xboxone    battlefield_4               1\n",
       "2                ps4    battlefield_4               1\n",
       "3  fitnesscirclejerk        leangains               1\n",
       "4  fitnesscirclejerk      lifeprotips               1"
      ],
      "text/html": "<div>\n<style scoped>\n    .dataframe tbody tr th:only-of-type {\n        vertical-align: middle;\n    }\n\n    .dataframe tbody tr th {\n        vertical-align: top;\n    }\n\n    .dataframe thead th {\n        text-align: right;\n    }\n</style>\n<table border=\"1\" class=\"dataframe\">\n  <thead>\n    <tr style=\"text-align: right;\">\n      <th></th>\n      <th>SOURCE_SUBREDDIT</th>\n      <th>TARGET_SUBREDDIT</th>\n      <th>LINK_SENTIMENT</th>\n    </tr>\n  </thead>\n  <tbody>\n    <tr>\n      <th>0</th>\n      <td>rddtgaming</td>\n      <td>rddtrust</td>\n      <td>1</td>\n    </tr>\n    <tr>\n      <th>1</th>\n      <td>xboxone</td>\n      <td>battlefield_4</td>\n      <td>1</td>\n    </tr>\n    <tr>\n      <th>2</th>\n      <td>ps4</td>\n      <td>battlefield_4</td>\n      <td>1</td>\n    </tr>\n    <tr>\n      <th>3</th>\n      <td>fitnesscirclejerk</td>\n      <td>leangains</td>\n      <td>1</td>\n    </tr>\n    <tr>\n      <th>4</th>\n      <td>fitnesscirclejerk</td>\n      <td>lifeprotips</td>\n      <td>1</td>\n    </tr>\n  </tbody>\n</table>\n</div>"
     },
     "metadata": {},
     "execution_count": 18
    }
   ],
   "source": [
    "df.drop([\"POST_ID\", \"TIMESTAMP\", \"PROPERTIES\"], axis=1, inplace = True)\n",
    "df.head()\n"
   ]
  },
  {
   "cell_type": "code",
   "execution_count": 19,
   "metadata": {},
   "outputs": [
    {
     "output_type": "execute_result",
     "data": {
      "text/plain": [
       "                                   LINK_SENTIMENT\n",
       "SOURCE_SUBREDDIT TARGET_SUBREDDIT                \n",
       "007              daniel_craig                   1\n",
       "07thexpansion    visualnovels                   1\n",
       "098f6bcd4621d373 askreddit                      1\n",
       "0________0       todayilearned                  1\n",
       "0magick          c_s_t                          1\n",
       "...                                           ...\n",
       "zygethia         uproleplaying                  1\n",
       "zyramains        leagueoflegends                1\n",
       "                 summonerschool                 1\n",
       "zyzz             bodybuilding                   1\n",
       "                 girlsmirin                     1\n",
       "\n",
       "[234792 rows x 1 columns]"
      ],
      "text/html": "<div>\n<style scoped>\n    .dataframe tbody tr th:only-of-type {\n        vertical-align: middle;\n    }\n\n    .dataframe tbody tr th {\n        vertical-align: top;\n    }\n\n    .dataframe thead th {\n        text-align: right;\n    }\n</style>\n<table border=\"1\" class=\"dataframe\">\n  <thead>\n    <tr style=\"text-align: right;\">\n      <th></th>\n      <th></th>\n      <th>LINK_SENTIMENT</th>\n    </tr>\n    <tr>\n      <th>SOURCE_SUBREDDIT</th>\n      <th>TARGET_SUBREDDIT</th>\n      <th></th>\n    </tr>\n  </thead>\n  <tbody>\n    <tr>\n      <th>007</th>\n      <th>daniel_craig</th>\n      <td>1</td>\n    </tr>\n    <tr>\n      <th>07thexpansion</th>\n      <th>visualnovels</th>\n      <td>1</td>\n    </tr>\n    <tr>\n      <th>098f6bcd4621d373</th>\n      <th>askreddit</th>\n      <td>1</td>\n    </tr>\n    <tr>\n      <th>0________0</th>\n      <th>todayilearned</th>\n      <td>1</td>\n    </tr>\n    <tr>\n      <th>0magick</th>\n      <th>c_s_t</th>\n      <td>1</td>\n    </tr>\n    <tr>\n      <th>...</th>\n      <th>...</th>\n      <td>...</td>\n    </tr>\n    <tr>\n      <th>zygethia</th>\n      <th>uproleplaying</th>\n      <td>1</td>\n    </tr>\n    <tr>\n      <th rowspan=\"2\" valign=\"top\">zyramains</th>\n      <th>leagueoflegends</th>\n      <td>1</td>\n    </tr>\n    <tr>\n      <th>summonerschool</th>\n      <td>1</td>\n    </tr>\n    <tr>\n      <th rowspan=\"2\" valign=\"top\">zyzz</th>\n      <th>bodybuilding</th>\n      <td>1</td>\n    </tr>\n    <tr>\n      <th>girlsmirin</th>\n      <td>1</td>\n    </tr>\n  </tbody>\n</table>\n<p>234792 rows × 1 columns</p>\n</div>"
     },
     "metadata": {},
     "execution_count": 19
    }
   ],
   "source": [
    "grouped = df.groupby([\"SOURCE_SUBREDDIT\", \"TARGET_SUBREDDIT\"])\n",
    "grouped.first()"
   ]
  },
  {
   "cell_type": "code",
   "execution_count": 21,
   "metadata": {},
   "outputs": [
    {
     "output_type": "execute_result",
     "data": {
      "text/plain": [
       "        LINK_SENTIMENT\n",
       "3933                 1\n",
       "19254                1\n",
       "20681                1\n",
       "67710                1\n",
       "113204               1\n",
       "118739               1\n",
       "158614               1\n",
       "181674               1\n",
       "204779               1\n",
       "220979               1\n",
       "225804               1\n",
       "240938               1\n",
       "263308               1\n",
       "302181               1\n",
       "319126               1\n",
       "337698               1\n",
       "347252              -1\n",
       "466388               1\n",
       "471596               1\n",
       "495948               1\n",
       "507528               1"
      ],
      "text/html": "<div>\n<style scoped>\n    .dataframe tbody tr th:only-of-type {\n        vertical-align: middle;\n    }\n\n    .dataframe tbody tr th {\n        vertical-align: top;\n    }\n\n    .dataframe thead th {\n        text-align: right;\n    }\n</style>\n<table border=\"1\" class=\"dataframe\">\n  <thead>\n    <tr style=\"text-align: right;\">\n      <th></th>\n      <th>LINK_SENTIMENT</th>\n    </tr>\n  </thead>\n  <tbody>\n    <tr>\n      <th>3933</th>\n      <td>1</td>\n    </tr>\n    <tr>\n      <th>19254</th>\n      <td>1</td>\n    </tr>\n    <tr>\n      <th>20681</th>\n      <td>1</td>\n    </tr>\n    <tr>\n      <th>67710</th>\n      <td>1</td>\n    </tr>\n    <tr>\n      <th>113204</th>\n      <td>1</td>\n    </tr>\n    <tr>\n      <th>118739</th>\n      <td>1</td>\n    </tr>\n    <tr>\n      <th>158614</th>\n      <td>1</td>\n    </tr>\n    <tr>\n      <th>181674</th>\n      <td>1</td>\n    </tr>\n    <tr>\n      <th>204779</th>\n      <td>1</td>\n    </tr>\n    <tr>\n      <th>220979</th>\n      <td>1</td>\n    </tr>\n    <tr>\n      <th>225804</th>\n      <td>1</td>\n    </tr>\n    <tr>\n      <th>240938</th>\n      <td>1</td>\n    </tr>\n    <tr>\n      <th>263308</th>\n      <td>1</td>\n    </tr>\n    <tr>\n      <th>302181</th>\n      <td>1</td>\n    </tr>\n    <tr>\n      <th>319126</th>\n      <td>1</td>\n    </tr>\n    <tr>\n      <th>337698</th>\n      <td>1</td>\n    </tr>\n    <tr>\n      <th>347252</th>\n      <td>-1</td>\n    </tr>\n    <tr>\n      <th>466388</th>\n      <td>1</td>\n    </tr>\n    <tr>\n      <th>471596</th>\n      <td>1</td>\n    </tr>\n    <tr>\n      <th>495948</th>\n      <td>1</td>\n    </tr>\n    <tr>\n      <th>507528</th>\n      <td>1</td>\n    </tr>\n  </tbody>\n</table>\n</div>"
     },
     "metadata": {},
     "execution_count": 21
    }
   ],
   "source": [
    "grouped.get_group((\"ps4\",\"gaming\"))"
   ]
  },
  {
   "cell_type": "code",
   "execution_count": 53,
   "metadata": {},
   "outputs": [],
   "source": [
    "# grouped['sentiment'] = ''\n",
    "# grouped['count'] = ''\n",
    "summed = grouped.mean()\n",
    "summed['count'] = grouped.count()"
   ]
  },
  {
   "cell_type": "code",
   "execution_count": 73,
   "metadata": {},
   "outputs": [
    {
     "output_type": "execute_result",
     "data": {
      "text/plain": [
       "LINK_SENTIMENT    0.714286\n",
       "count             7.000000\n",
       "Name: (ps4, assassinscreed), dtype: float64"
      ]
     },
     "metadata": {},
     "execution_count": 73
    }
   ],
   "source": [
    "# summed.tail(40)\n",
    "summed.loc[(\"ps4\",\"assassinscreed\")]"
   ]
  },
  {
   "cell_type": "code",
   "execution_count": 61,
   "metadata": {},
   "outputs": [
    {
     "output_type": "execute_result",
     "data": {
      "text/plain": [
       "LINK_SENTIMENT    1.0\n",
       "count             1.0\n",
       "Name: (zootopia, furry), dtype: float64"
      ]
     },
     "metadata": {},
     "execution_count": 61
    }
   ],
   "source": [
    "summed.loc['zootopia','furry']"
   ]
  },
  {
   "cell_type": "code",
   "execution_count": 70,
   "metadata": {},
   "outputs": [
    {
     "output_type": "execute_result",
     "data": {
      "text/plain": [
       "   SOURCE_SUBREDDIT TARGET_SUBREDDIT  LINK_SENTIMENT  count\n",
       "0               007     daniel_craig             1.0      1\n",
       "1     07thexpansion     visualnovels             1.0      1\n",
       "2  098f6bcd4621d373        askreddit             1.0      1\n",
       "3        0________0    todayilearned             1.0      1\n",
       "4           0magick            c_s_t             1.0      1"
      ],
      "text/html": "<div>\n<style scoped>\n    .dataframe tbody tr th:only-of-type {\n        vertical-align: middle;\n    }\n\n    .dataframe tbody tr th {\n        vertical-align: top;\n    }\n\n    .dataframe thead th {\n        text-align: right;\n    }\n</style>\n<table border=\"1\" class=\"dataframe\">\n  <thead>\n    <tr style=\"text-align: right;\">\n      <th></th>\n      <th>SOURCE_SUBREDDIT</th>\n      <th>TARGET_SUBREDDIT</th>\n      <th>LINK_SENTIMENT</th>\n      <th>count</th>\n    </tr>\n  </thead>\n  <tbody>\n    <tr>\n      <th>0</th>\n      <td>007</td>\n      <td>daniel_craig</td>\n      <td>1.0</td>\n      <td>1</td>\n    </tr>\n    <tr>\n      <th>1</th>\n      <td>07thexpansion</td>\n      <td>visualnovels</td>\n      <td>1.0</td>\n      <td>1</td>\n    </tr>\n    <tr>\n      <th>2</th>\n      <td>098f6bcd4621d373</td>\n      <td>askreddit</td>\n      <td>1.0</td>\n      <td>1</td>\n    </tr>\n    <tr>\n      <th>3</th>\n      <td>0________0</td>\n      <td>todayilearned</td>\n      <td>1.0</td>\n      <td>1</td>\n    </tr>\n    <tr>\n      <th>4</th>\n      <td>0magick</td>\n      <td>c_s_t</td>\n      <td>1.0</td>\n      <td>1</td>\n    </tr>\n  </tbody>\n</table>\n</div>"
     },
     "metadata": {},
     "execution_count": 70
    }
   ],
   "source": [
    "final = summed.reset_index()\n",
    "final.head()  "
   ]
  },
  {
   "cell_type": "code",
   "execution_count": 72,
   "metadata": {},
   "outputs": [
    {
     "output_type": "execute_result",
     "data": {
      "text/plain": [
       "       SOURCE_SUBREDDIT TARGET_SUBREDDIT  LINK_SENTIMENT  count\n",
       "158019              ps4        askreddit        1.000000      3\n",
       "158020              ps4   assassinscreed        0.714286      7\n",
       "158021              ps4           batman        1.000000      2\n",
       "158022              ps4     batmanarkham        1.000000      4\n",
       "158023              ps4       battleborn        1.000000      1\n",
       "...                 ...              ...             ...    ...\n",
       "158160              ps4       watch_dogs        1.000000      1\n",
       "158161              ps4             wiiu        1.000000      4\n",
       "158162              ps4          witcher        1.000000      3\n",
       "158163              ps4             xbox        1.000000      2\n",
       "158164              ps4          xboxone        1.000000     20\n",
       "\n",
       "[146 rows x 4 columns]"
      ],
      "text/html": "<div>\n<style scoped>\n    .dataframe tbody tr th:only-of-type {\n        vertical-align: middle;\n    }\n\n    .dataframe tbody tr th {\n        vertical-align: top;\n    }\n\n    .dataframe thead th {\n        text-align: right;\n    }\n</style>\n<table border=\"1\" class=\"dataframe\">\n  <thead>\n    <tr style=\"text-align: right;\">\n      <th></th>\n      <th>SOURCE_SUBREDDIT</th>\n      <th>TARGET_SUBREDDIT</th>\n      <th>LINK_SENTIMENT</th>\n      <th>count</th>\n    </tr>\n  </thead>\n  <tbody>\n    <tr>\n      <th>158019</th>\n      <td>ps4</td>\n      <td>askreddit</td>\n      <td>1.000000</td>\n      <td>3</td>\n    </tr>\n    <tr>\n      <th>158020</th>\n      <td>ps4</td>\n      <td>assassinscreed</td>\n      <td>0.714286</td>\n      <td>7</td>\n    </tr>\n    <tr>\n      <th>158021</th>\n      <td>ps4</td>\n      <td>batman</td>\n      <td>1.000000</td>\n      <td>2</td>\n    </tr>\n    <tr>\n      <th>158022</th>\n      <td>ps4</td>\n      <td>batmanarkham</td>\n      <td>1.000000</td>\n      <td>4</td>\n    </tr>\n    <tr>\n      <th>158023</th>\n      <td>ps4</td>\n      <td>battleborn</td>\n      <td>1.000000</td>\n      <td>1</td>\n    </tr>\n    <tr>\n      <th>...</th>\n      <td>...</td>\n      <td>...</td>\n      <td>...</td>\n      <td>...</td>\n    </tr>\n    <tr>\n      <th>158160</th>\n      <td>ps4</td>\n      <td>watch_dogs</td>\n      <td>1.000000</td>\n      <td>1</td>\n    </tr>\n    <tr>\n      <th>158161</th>\n      <td>ps4</td>\n      <td>wiiu</td>\n      <td>1.000000</td>\n      <td>4</td>\n    </tr>\n    <tr>\n      <th>158162</th>\n      <td>ps4</td>\n      <td>witcher</td>\n      <td>1.000000</td>\n      <td>3</td>\n    </tr>\n    <tr>\n      <th>158163</th>\n      <td>ps4</td>\n      <td>xbox</td>\n      <td>1.000000</td>\n      <td>2</td>\n    </tr>\n    <tr>\n      <th>158164</th>\n      <td>ps4</td>\n      <td>xboxone</td>\n      <td>1.000000</td>\n      <td>20</td>\n    </tr>\n  </tbody>\n</table>\n<p>146 rows × 4 columns</p>\n</div>"
     },
     "metadata": {},
     "execution_count": 72
    }
   ],
   "source": [
    "final.loc[final['SOURCE_SUBREDDIT']=='ps4']"
   ]
  },
  {
   "cell_type": "code",
   "execution_count": null,
   "metadata": {},
   "outputs": [],
   "source": []
  }
 ]
}